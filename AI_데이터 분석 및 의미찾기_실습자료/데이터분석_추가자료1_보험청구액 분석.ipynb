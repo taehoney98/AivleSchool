{
 "cells": [
  {
   "cell_type": "markdown",
   "metadata": {
    "id": "H2PiE6pYmBv7"
   },
   "source": [
    "# 보험금 청구액 분석"
   ]
  },
  {
   "cell_type": "markdown",
   "metadata": {
    "id": "Wyg1gRj8ZxMK"
   },
   "source": [
    "## 1.환경준비"
   ]
  },
  {
   "cell_type": "markdown",
   "metadata": {
    "id": "dSsCFlrNaQQW"
   },
   "source": [
    "### 1) 라이브러리 로딩"
   ]
  },
  {
   "cell_type": "code",
   "execution_count": null,
   "metadata": {
    "id": "6g46eHDnW2QX"
   },
   "outputs": [],
   "source": [
    "import pandas as pd\n",
    "import numpy as np\n",
    "import matplotlib.pyplot as plt\n",
    "import seaborn as sns\n",
    "\n",
    "import scipy.stats as spst"
   ]
  },
  {
   "cell_type": "markdown",
   "metadata": {
    "id": "oivLe5kRaO8V"
   },
   "source": [
    "### 2) 데이터 로딩"
   ]
  },
  {
   "cell_type": "code",
   "execution_count": null,
   "metadata": {
    "id": "FAAhTtVxiIqH"
   },
   "outputs": [],
   "source": [
    "path = 'https://raw.githubusercontent.com/DA4BAM/dataset/master/insurance.csv'\n",
    "data = pd.read_csv(path)\n",
    "data.head()"
   ]
  },
  {
   "cell_type": "markdown",
   "metadata": {
    "id": "9Rdsa2RD0qth"
   },
   "source": [
    "* 변수설명\n",
    "    * **age**: age of primary beneficiary\n",
    "    * **sex**: insurance contractor gender, female, male\n",
    "    * **bmi**: Body mass index, providing an understanding of body, weights that are relatively high or low relative to height, objective index of body weight (kg / m ^ 2) using the ratio of height to weight, ideally 18.5 to 24.9\n",
    "    * **children**: Number of children covered by health insurance / Number of dependents\n",
    "    * **smoker**: Smoking\n",
    "    * **region**: the beneficiary's residential area in the US, northeast, southeast, southwest, northwest.\n",
    "    * **charges**: Individual medical costs billed by health insurance (target)"
   ]
  },
  {
   "cell_type": "markdown",
   "metadata": {
    "id": "7jFZPpHLjJwB"
   },
   "source": [
    "\n",
    "* 데이터의 크기를 살펴봅시다."
   ]
  },
  {
   "cell_type": "code",
   "execution_count": null,
   "metadata": {
    "id": "WTmIn3nkZpVx"
   },
   "outputs": [],
   "source": [
    "data.shape"
   ]
  },
  {
   "cell_type": "markdown",
   "metadata": {
    "id": "gym6dx7Dppnc"
   },
   "source": [
    "## 2.개별 변수 분석하기\n",
    "\n",
    "* 파악해야 할 부분\n",
    "    * 변수의 의미\n",
    "    * 분포\n",
    "        * 대체로 데이터가 모여 있는 부분\n",
    "        * 데이터가 희박한 부분\n",
    "        * 특이한 부분\n",
    "    * 비즈니스 파악하기\n",
    "        * 분포로 부터 비즈니스 이해하기\n",
    "    * 추가 분석하고 싶은 내용"
   ]
  },
  {
   "cell_type": "markdown",
   "metadata": {
    "id": "8U-S-jOqdDf0"
   },
   "source": [
    "### (1) 수치형 변수\n",
    "\n",
    "* 그래프 : histogram, kdeplot, boxplot\n",
    "* 기초통계량 : .describe()"
   ]
  },
  {
   "cell_type": "markdown",
   "metadata": {
    "id": "Qti_D3pHdTqA"
   },
   "source": [
    "#### 1) age"
   ]
  },
  {
   "cell_type": "code",
   "execution_count": null,
   "metadata": {
    "id": "SEqSvF2sc_eP"
   },
   "outputs": [],
   "source": []
  },
  {
   "cell_type": "code",
   "execution_count": null,
   "metadata": {
    "id": "nVbl9Gb0oi_v"
   },
   "outputs": [],
   "source": []
  },
  {
   "cell_type": "code",
   "execution_count": null,
   "metadata": {
    "id": "G68dyfZgojk_"
   },
   "outputs": [],
   "source": []
  },
  {
   "cell_type": "markdown",
   "metadata": {
    "id": "EEZhdJ5lfG84"
   },
   "source": [
    "#### 2) bmi"
   ]
  },
  {
   "cell_type": "code",
   "execution_count": null,
   "metadata": {
    "id": "hxNndytTokO9"
   },
   "outputs": [],
   "source": []
  },
  {
   "cell_type": "code",
   "execution_count": null,
   "metadata": {
    "id": "_XALk1WookO9"
   },
   "outputs": [],
   "source": []
  },
  {
   "cell_type": "code",
   "execution_count": null,
   "metadata": {
    "id": "GcYChBVVfG85"
   },
   "outputs": [],
   "source": []
  },
  {
   "cell_type": "markdown",
   "metadata": {
    "id": "_1HplE2OfNgd"
   },
   "source": [
    "#### 3) children"
   ]
  },
  {
   "cell_type": "code",
   "execution_count": null,
   "metadata": {
    "id": "rTv_gMKrolOe"
   },
   "outputs": [],
   "source": []
  },
  {
   "cell_type": "code",
   "execution_count": null,
   "metadata": {
    "id": "j2GOW_72olOe"
   },
   "outputs": [],
   "source": []
  },
  {
   "cell_type": "code",
   "execution_count": null,
   "metadata": {
    "id": "2eZb1PF3olOf"
   },
   "outputs": [],
   "source": []
  },
  {
   "cell_type": "markdown",
   "metadata": {
    "id": "mQFxy6Gk2HuV"
   },
   "source": [
    "#### 4) charges (Target)"
   ]
  },
  {
   "cell_type": "code",
   "execution_count": null,
   "metadata": {
    "id": "P2jIQRiv2LBW"
   },
   "outputs": [],
   "source": []
  },
  {
   "cell_type": "code",
   "execution_count": null,
   "metadata": {
    "id": "tS1qkLLP2K-U"
   },
   "outputs": [],
   "source": []
  },
  {
   "cell_type": "code",
   "execution_count": null,
   "metadata": {
    "id": "-dd-Ohpb2K7p"
   },
   "outputs": [],
   "source": []
  },
  {
   "cell_type": "markdown",
   "metadata": {
    "id": "-3dhlmOTfhfE"
   },
   "source": [
    "### (2) 범주형 변수\n",
    "\n",
    "* 그래프 : bar plot (sns.countplot)\n",
    "* 기초통계량 : .value_counts()"
   ]
  },
  {
   "cell_type": "markdown",
   "metadata": {
    "id": "UhGOyXfFfhfG"
   },
   "source": [
    "#### 1) sex"
   ]
  },
  {
   "cell_type": "code",
   "execution_count": null,
   "metadata": {
    "id": "_t66j0V7opNu"
   },
   "outputs": [],
   "source": []
  },
  {
   "cell_type": "code",
   "execution_count": null,
   "metadata": {
    "id": "gSParnlhopLP"
   },
   "outputs": [],
   "source": []
  },
  {
   "cell_type": "code",
   "execution_count": null,
   "metadata": {
    "id": "SvR4IabvopHn"
   },
   "outputs": [],
   "source": []
  },
  {
   "cell_type": "markdown",
   "metadata": {
    "id": "_JnUvOcpjW7J"
   },
   "source": [
    "#### 2) smoker"
   ]
  },
  {
   "cell_type": "code",
   "execution_count": null,
   "metadata": {
    "id": "_wsqTs8AoqwK"
   },
   "outputs": [],
   "source": []
  },
  {
   "cell_type": "code",
   "execution_count": null,
   "metadata": {
    "id": "0XzY2pbKoqtN"
   },
   "outputs": [],
   "source": []
  },
  {
   "cell_type": "code",
   "execution_count": null,
   "metadata": {
    "id": "wvId0C5Toqqa"
   },
   "outputs": [],
   "source": []
  },
  {
   "cell_type": "markdown",
   "metadata": {
    "id": "AWuEkfnEjXpR"
   },
   "source": [
    "#### 3) region"
   ]
  },
  {
   "cell_type": "code",
   "execution_count": null,
   "metadata": {
    "id": "8qNWEn4qorcp"
   },
   "outputs": [],
   "source": []
  },
  {
   "cell_type": "code",
   "execution_count": null,
   "metadata": {
    "id": "LSGxX19Torcp"
   },
   "outputs": [],
   "source": []
  },
  {
   "cell_type": "code",
   "execution_count": null,
   "metadata": {
    "id": "LXTUeihuorcp"
   },
   "outputs": [],
   "source": []
  },
  {
   "cell_type": "markdown",
   "metadata": {
    "id": "fXPVfu3cc_2P"
   },
   "source": [
    "## 3.두 변수의 관계 분석하기\n",
    "\n",
    "* 분석할 내용\n",
    "    * x --> y 가설에 대한 증거 찾기\n",
    "        * 그래프, 가설검정 도구\n",
    "    * 관계 정리하기 : 강한, 중간, 약한 관계"
   ]
  },
  {
   "cell_type": "code",
   "execution_count": null,
   "metadata": {
    "id": "GCHjxjummQHs"
   },
   "outputs": [],
   "source": [
    "target = 'charges'"
   ]
  },
  {
   "cell_type": "markdown",
   "metadata": {
    "id": "lmHXO_YFduEM"
   },
   "source": [
    "### (1) 수치형 X --> 수치형 Y\n",
    "\n",
    "* 그래프 : 산점도\n",
    "* 가설검정 : 상관분석"
   ]
  },
  {
   "cell_type": "markdown",
   "metadata": {
    "id": "Rcmnb7dXduEM"
   },
   "source": [
    "#### 1) age --> charges"
   ]
  },
  {
   "cell_type": "code",
   "execution_count": null,
   "metadata": {
    "id": "T77pbzj3u4cE"
   },
   "outputs": [],
   "source": []
  },
  {
   "cell_type": "code",
   "execution_count": null,
   "metadata": {
    "id": "Jxu-n6BVo1oQ"
   },
   "outputs": [],
   "source": []
  },
  {
   "cell_type": "markdown",
   "metadata": {
    "id": "2BClNGANnAS1"
   },
   "source": [
    "#### 2) bmi --> charges"
   ]
  },
  {
   "cell_type": "code",
   "execution_count": null,
   "metadata": {
    "id": "ZDryX3hYnAS2"
   },
   "outputs": [],
   "source": []
  },
  {
   "cell_type": "code",
   "execution_count": null,
   "metadata": {
    "id": "ktEZECPIo2gP"
   },
   "outputs": [],
   "source": []
  },
  {
   "cell_type": "markdown",
   "metadata": {
    "id": "1Zqlmk50nAk2"
   },
   "source": [
    "#### 3) children --> charges"
   ]
  },
  {
   "cell_type": "code",
   "execution_count": null,
   "metadata": {
    "id": "rdWYjOpVo3tl"
   },
   "outputs": [],
   "source": []
  },
  {
   "cell_type": "code",
   "execution_count": null,
   "metadata": {
    "id": "qxyCUWxko3TP"
   },
   "outputs": [],
   "source": []
  },
  {
   "cell_type": "markdown",
   "metadata": {
    "id": "GdzBXKU8duEP"
   },
   "source": [
    "### (2) 범주형 X --> 수치형 Y\n",
    "\n",
    "* 그래프 : 평균비교 막대그래프 (sns.barplot)\n",
    "* 가설검정 : 범주2 - t-test, 범주3개 이상 - 분산분석(anova)"
   ]
  },
  {
   "cell_type": "markdown",
   "metadata": {
    "id": "fHtRLzf3duEP"
   },
   "source": [
    "#### 1) sex --> charges"
   ]
  },
  {
   "cell_type": "code",
   "execution_count": null,
   "metadata": {
    "id": "-PIBLJJp0VNe"
   },
   "outputs": [],
   "source": []
  },
  {
   "cell_type": "code",
   "execution_count": null,
   "metadata": {
    "id": "08TfQ46Fo5dJ"
   },
   "outputs": [],
   "source": []
  },
  {
   "cell_type": "markdown",
   "metadata": {
    "id": "2OXL6NaCoJgr"
   },
   "source": [
    "#### 2) smoker --> charges"
   ]
  },
  {
   "cell_type": "code",
   "execution_count": null,
   "metadata": {
    "id": "k5sQV2Ybo5sS"
   },
   "outputs": [],
   "source": []
  },
  {
   "cell_type": "code",
   "execution_count": null,
   "metadata": {
    "id": "-2IjaLn-oJgr"
   },
   "outputs": [],
   "source": []
  },
  {
   "cell_type": "markdown",
   "metadata": {
    "id": "799ZFpZYoJl2"
   },
   "source": [
    "#### 3) region --> charges"
   ]
  },
  {
   "cell_type": "code",
   "execution_count": null,
   "metadata": {
    "id": "muhPOG48o7OR"
   },
   "outputs": [],
   "source": []
  },
  {
   "cell_type": "code",
   "execution_count": null,
   "metadata": {
    "id": "2I5lvWeOoJl3"
   },
   "outputs": [],
   "source": []
  },
  {
   "cell_type": "markdown",
   "metadata": {
    "id": "oA2SaIkwduET"
   },
   "source": [
    "### (3) 관계 정리하기"
   ]
  },
  {
   "cell_type": "markdown",
   "metadata": {
    "id": "fHVdxdw0duEU"
   },
   "source": [
    "① 강한관계"
   ]
  },
  {
   "cell_type": "code",
   "execution_count": null,
   "metadata": {
    "id": "fZG2UAgYduEU"
   },
   "outputs": [],
   "source": []
  },
  {
   "cell_type": "markdown",
   "metadata": {
    "id": "NbK2caIFduEU"
   },
   "source": [
    "② 중간관계"
   ]
  },
  {
   "cell_type": "code",
   "execution_count": null,
   "metadata": {
    "id": "d9Be9s1ZduEU"
   },
   "outputs": [],
   "source": []
  },
  {
   "cell_type": "markdown",
   "metadata": {
    "id": "nj2p43MpduEU"
   },
   "source": [
    "③ 관계없음"
   ]
  },
  {
   "cell_type": "code",
   "execution_count": null,
   "metadata": {
    "id": "Y4R9XictduEU"
   },
   "outputs": [],
   "source": []
  }
 ],
 "metadata": {
  "colab": {
   "provenance": [],
   "toc_visible": true
  },
  "kernelspec": {
   "display_name": "Python 3 (ipykernel)",
   "language": "python",
   "name": "python3"
  },
  "language_info": {
   "codemirror_mode": {
    "name": "ipython",
    "version": 3
   },
   "file_extension": ".py",
   "mimetype": "text/x-python",
   "name": "python",
   "nbconvert_exporter": "python",
   "pygments_lexer": "ipython3",
   "version": "3.12.4"
  }
 },
 "nbformat": 4,
 "nbformat_minor": 4
}
