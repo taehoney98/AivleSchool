{
 "cells": [
  {
   "cell_type": "markdown",
   "id": "03fff3b4",
   "metadata": {},
   "source": [
    "### selenium\n",
    "- `https://www.selenium.dev`\n",
    "- 자동화를 목적으로 만들어진 다양한 브라우져와 언어를 지원하는 라이브러리\n",
    "- 크롬 브라우져 설치\n",
    "    - 크롬 브라우져 드라이버 다운로드 (크롬 브라우져와 같은 버전)\n",
    "    - 다운로드한 드라이버 압축 해제\n",
    "    - chromedriver, chromedriver.exe 생성\n",
    "    - windows : 주피터 노트북 파일과 동일한 디렉토리에 chromedriver.exe 파일 업로드\n",
    "    - mac : sudo cp ~/Download/chromedirver /usr/local/bin"
   ]
  },
  {
   "cell_type": "code",
   "execution_count": 102,
   "id": "a6e6bc99",
   "metadata": {},
   "outputs": [
    {
     "name": "stdout",
     "output_type": "stream",
     "text": [
      "Requirement already satisfied: selenium in c:\\users\\user\\anaconda3\\lib\\site-packages (4.25.0)\n",
      "Requirement already satisfied: urllib3<3,>=1.26 in c:\\users\\user\\anaconda3\\lib\\site-packages (from urllib3[socks]<3,>=1.26->selenium) (2.2.2)\n",
      "Requirement already satisfied: trio~=0.17 in c:\\users\\user\\anaconda3\\lib\\site-packages (from selenium) (0.26.2)\n",
      "Requirement already satisfied: trio-websocket~=0.9 in c:\\users\\user\\anaconda3\\lib\\site-packages (from selenium) (0.11.1)\n",
      "Requirement already satisfied: certifi>=2021.10.8 in c:\\users\\user\\anaconda3\\lib\\site-packages (from selenium) (2024.7.4)\n",
      "Requirement already satisfied: typing_extensions~=4.9 in c:\\users\\user\\anaconda3\\lib\\site-packages (from selenium) (4.11.0)\n",
      "Requirement already satisfied: websocket-client~=1.8 in c:\\users\\user\\anaconda3\\lib\\site-packages (from selenium) (1.8.0)\n",
      "Requirement already satisfied: attrs>=23.2.0 in c:\\users\\user\\anaconda3\\lib\\site-packages (from trio~=0.17->selenium) (24.2.0)\n",
      "Requirement already satisfied: sortedcontainers in c:\\users\\user\\anaconda3\\lib\\site-packages (from trio~=0.17->selenium) (2.4.0)\n",
      "Requirement already satisfied: idna in c:\\users\\user\\anaconda3\\lib\\site-packages (from trio~=0.17->selenium) (3.7)\n",
      "Requirement already satisfied: outcome in c:\\users\\user\\anaconda3\\lib\\site-packages (from trio~=0.17->selenium) (1.3.0.post0)\n",
      "Requirement already satisfied: sniffio>=1.3.0 in c:\\users\\user\\anaconda3\\lib\\site-packages (from trio~=0.17->selenium) (1.3.0)\n",
      "Requirement already satisfied: cffi>=1.14 in c:\\users\\user\\anaconda3\\lib\\site-packages (from trio~=0.17->selenium) (1.16.0)\n",
      "Requirement already satisfied: wsproto>=0.14 in c:\\users\\user\\anaconda3\\lib\\site-packages (from trio-websocket~=0.9->selenium) (1.2.0)\n",
      "Requirement already satisfied: pysocks!=1.5.7,<2.0,>=1.5.6 in c:\\users\\user\\anaconda3\\lib\\site-packages (from urllib3[socks]<3,>=1.26->selenium) (1.7.1)\n",
      "Requirement already satisfied: pycparser in c:\\users\\user\\anaconda3\\lib\\site-packages (from cffi>=1.14->trio~=0.17->selenium) (2.21)\n",
      "Requirement already satisfied: h11<1,>=0.9.0 in c:\\users\\user\\anaconda3\\lib\\site-packages (from wsproto>=0.14->trio-websocket~=0.9->selenium) (0.14.0)\n"
     ]
    }
   ],
   "source": [
    "!pip install selenium"
   ]
  },
  {
   "cell_type": "code",
   "execution_count": 103,
   "id": "b714c414-b6c0-4daa-a6d0-03059204867d",
   "metadata": {},
   "outputs": [],
   "source": [
    "# 129 버전"
   ]
  },
  {
   "cell_type": "code",
   "execution_count": 104,
   "id": "693769ac-2dd8-400f-8bbf-f2bff431740b",
   "metadata": {},
   "outputs": [],
   "source": [
    "import pandas as pd\n",
    "from selenium import webdriver\n",
    "from selenium.webdriver.common.by import By"
   ]
  },
  {
   "cell_type": "code",
   "execution_count": 105,
   "id": "5fbfc2b2-e4d3-4c2e-b029-8f261cae1778",
   "metadata": {},
   "outputs": [],
   "source": [
    "driver= webdriver.Chrome() #직접 드라이버다운받아서 설정"
   ]
  },
  {
   "cell_type": "code",
   "execution_count": null,
   "id": "2988f633-d4c3-4343-8e21-d95d925c1339",
   "metadata": {},
   "outputs": [],
   "source": []
  },
  {
   "cell_type": "code",
   "execution_count": 106,
   "id": "6b8c6982-84a2-4730-a06d-defbd49a53d3",
   "metadata": {},
   "outputs": [
    {
     "name": "stdout",
     "output_type": "stream",
     "text": [
      "Requirement already satisfied: webdriver_manager in c:\\users\\user\\anaconda3\\lib\\site-packages (4.0.2)\n",
      "Requirement already satisfied: requests in c:\\users\\user\\anaconda3\\lib\\site-packages (from webdriver_manager) (2.32.2)\n",
      "Requirement already satisfied: python-dotenv in c:\\users\\user\\anaconda3\\lib\\site-packages (from webdriver_manager) (0.21.0)\n",
      "Requirement already satisfied: packaging in c:\\users\\user\\anaconda3\\lib\\site-packages (from webdriver_manager) (23.2)\n",
      "Requirement already satisfied: charset-normalizer<4,>=2 in c:\\users\\user\\anaconda3\\lib\\site-packages (from requests->webdriver_manager) (2.0.4)\n",
      "Requirement already satisfied: idna<4,>=2.5 in c:\\users\\user\\anaconda3\\lib\\site-packages (from requests->webdriver_manager) (3.7)\n",
      "Requirement already satisfied: urllib3<3,>=1.21.1 in c:\\users\\user\\anaconda3\\lib\\site-packages (from requests->webdriver_manager) (2.2.2)\n",
      "Requirement already satisfied: certifi>=2017.4.17 in c:\\users\\user\\anaconda3\\lib\\site-packages (from requests->webdriver_manager) (2024.7.4)\n"
     ]
    }
   ],
   "source": [
    "!pip install webdriver_manager"
   ]
  },
  {
   "cell_type": "code",
   "execution_count": 107,
   "id": "97ad0e28-e4fe-444c-9a46-9664a40f7e23",
   "metadata": {},
   "outputs": [
    {
     "ename": "ImportError",
     "evalue": "cannot import name 'ChromeDriverManger' from 'webdriver_manager.chrome' (C:\\Users\\User\\anaconda3\\Lib\\site-packages\\webdriver_manager\\chrome.py)",
     "output_type": "error",
     "traceback": [
      "\u001b[1;31m---------------------------------------------------------------------------\u001b[0m",
      "\u001b[1;31mImportError\u001b[0m                               Traceback (most recent call last)",
      "Cell \u001b[1;32mIn[107], line 2\u001b[0m\n\u001b[0;32m      1\u001b[0m \u001b[38;5;28;01mfrom\u001b[39;00m \u001b[38;5;21;01mselenium\u001b[39;00m\u001b[38;5;21;01m.\u001b[39;00m\u001b[38;5;21;01mwebdriver\u001b[39;00m\u001b[38;5;21;01m.\u001b[39;00m\u001b[38;5;21;01mchrome\u001b[39;00m\u001b[38;5;21;01m.\u001b[39;00m\u001b[38;5;21;01mservice\u001b[39;00m \u001b[38;5;28;01mimport\u001b[39;00m Service\n\u001b[1;32m----> 2\u001b[0m \u001b[38;5;28;01mfrom\u001b[39;00m \u001b[38;5;21;01mwebdriver_manager\u001b[39;00m\u001b[38;5;21;01m.\u001b[39;00m\u001b[38;5;21;01mchrome\u001b[39;00m \u001b[38;5;28;01mimport\u001b[39;00m ChromeDriverManger\n\u001b[0;32m      4\u001b[0m \u001b[38;5;66;03m#자동으로 본인 환경에 맞는 드라이버를 다운받아서 설정\u001b[39;00m\n\u001b[0;32m      7\u001b[0m service \u001b[38;5;241m=\u001b[39m Service(ChromeDriverManger()\u001b[38;5;241m.\u001b[39minstall())\n",
      "\u001b[1;31mImportError\u001b[0m: cannot import name 'ChromeDriverManger' from 'webdriver_manager.chrome' (C:\\Users\\User\\anaconda3\\Lib\\site-packages\\webdriver_manager\\chrome.py)"
     ]
    }
   ],
   "source": [
    "# from selenium.webdriver.chrome.service import Service\n",
    "# from webdriver_manager.chrome import ChromeDriverManger\n",
    "\n",
    "# #자동으로 본인 환경에 맞는 드라이버를 다운받아서 설정\n",
    "\n",
    "\n",
    "# service = Service(ChromeDriverManger().install())\n",
    "# driver = webdriver.Chrome(Service=service)"
   ]
  },
  {
   "cell_type": "code",
   "execution_count": 108,
   "id": "39e30c91",
   "metadata": {},
   "outputs": [],
   "source": [
    "# 페이지 이동\n",
    "driver.get('https://daum.net')"
   ]
  },
  {
   "cell_type": "code",
   "execution_count": 109,
   "id": "2326ed23-732c-45a9-a500-d24a088ae0ef",
   "metadata": {},
   "outputs": [],
   "source": [
    "# 브라우저 사이즈 조정\n",
    "\n",
    "driver.set_window_size(600,600)"
   ]
  },
  {
   "cell_type": "code",
   "execution_count": 112,
   "id": "52b74ff0-1cd5-4662-ae3e-661a8d010de2",
   "metadata": {},
   "outputs": [],
   "source": [
    "# 자바스크립트 코드 실행\n",
    "driver.execute_script('alert(\"hello selenium!\");')"
   ]
  },
  {
   "cell_type": "code",
   "execution_count": 114,
   "id": "5b1536e1-b1a7-4bc1-9bb7-33fdd914ff39",
   "metadata": {},
   "outputs": [],
   "source": [
    "# alert 종료\n",
    "alert = driver.switch_to.alert\n",
    "alert.accept()"
   ]
  },
  {
   "cell_type": "code",
   "execution_count": 116,
   "id": "19317161-da16-48c6-b061-e950eb61d750",
   "metadata": {
    "scrolled": true
   },
   "outputs": [],
   "source": [
    "# 검색어 입력 후 검색 버튼 클릭\n",
    "\n",
    "driver.find_element(By.CSS_SELECTOR , '#q').send_keys('selenium') #q"
   ]
  },
  {
   "cell_type": "code",
   "execution_count": 118,
   "id": "a78aacaa-5941-491c-bf39-0d6f74eaf8a1",
   "metadata": {},
   "outputs": [],
   "source": [
    "# 검색버튼 클릭\n",
    "driver.find_element(By.CSS_SELECTOR , '.btn_ksearch').click()"
   ]
  },
  {
   "cell_type": "code",
   "execution_count": 119,
   "id": "de1f4593-219f-4c0f-9abe-37f405644768",
   "metadata": {},
   "outputs": [],
   "source": [
    "# 브라우저 종료 : 자원(메모리 RAM) 반환\n",
    "\n",
    "driver.quit()\n",
    "\n",
    "# 크롬은 창 하나당 100메가 정도 메모리를 사용해서 바로바로 종료 안해주면 메모리 부족한 경우 많음"
   ]
  },
  {
   "cell_type": "markdown",
   "id": "c0bb1d53-3eb9-4e5f-9837-0a98114d27c8",
   "metadata": {},
   "source": [
    "#### 텍스트 데이터 가져오기\n",
    "- TED 사이트 : `https://www.ted.com`"
   ]
  },
  {
   "cell_type": "code",
   "execution_count": 147,
   "id": "b72f1941-956f-4c48-9902-b9d3712de486",
   "metadata": {},
   "outputs": [],
   "source": [
    "import time"
   ]
  },
  {
   "cell_type": "code",
   "execution_count": 159,
   "id": "a0b47d59-df65-4709-9f23-0708e482d238",
   "metadata": {},
   "outputs": [],
   "source": [
    "driver= webdriver.Chrome() # 크롬창 켜기"
   ]
  },
  {
   "cell_type": "code",
   "execution_count": 160,
   "id": "72ccfa68-ca85-4e6b-a8d3-44cda8445421",
   "metadata": {},
   "outputs": [],
   "source": [
    "driver.get('https://www.ted.com/talks') # 페이지 접근"
   ]
  },
  {
   "cell_type": "code",
   "execution_count": 161,
   "id": "ad036fe3-2731-446f-8932-f93d661332c6",
   "metadata": {},
   "outputs": [],
   "source": [
    "time.sleep(1)\n",
    "driver.find_element(By.CSS_SELECTOR , '#close-pc-btn-handler').click()"
   ]
  },
  {
   "cell_type": "code",
   "execution_count": null,
   "id": "3737dd43-e0cb-4b0b-a062-8aadf42876e8",
   "metadata": {},
   "outputs": [],
   "source": []
  },
  {
   "cell_type": "code",
   "execution_count": 166,
   "id": "60526f8c-3c7e-4e45-b675-844190843f66",
   "metadata": {},
   "outputs": [
    {
     "data": {
      "text/plain": [
       "'TED Talks: Discover ideas worth spreading'"
      ]
     },
     "execution_count": 166,
     "metadata": {},
     "output_type": "execute_result"
    }
   ],
   "source": [
    "\n",
    "driver.find_element(By.CSS_SELECTOR , 'h2.text-textPrimary-onLight').text"
   ]
  },
  {
   "cell_type": "code",
   "execution_count": 168,
   "id": "0b1f1cdf-ec49-4867-b27a-4602ef06d243",
   "metadata": {},
   "outputs": [],
   "source": [
    "driver.quit()"
   ]
  },
  {
   "cell_type": "markdown",
   "id": "152eda00",
   "metadata": {},
   "source": [
    "#### Headless\n",
    "- 브라우져를 화면에 띄우지 않고 메모리상에서만 올려서 크롤링하는 방법 \n",
    "- window가 지원되지 않는 환경에서 사용이 가능\n",
    "- chrome version 60.0.0.0 이상부터 지원 합니다."
   ]
  },
  {
   "cell_type": "code",
   "execution_count": 180,
   "id": "ec5daf36",
   "metadata": {},
   "outputs": [],
   "source": [
    "options = webdriver.ChromeOptions()  #서버에서 데이터 수집시 서버는 화면이 없으므로 화면을 띄우지 않고 데이터수집함\n",
    "options.add_argument('headless')\n",
    "\n",
    "driver= webdriver.Chrome(options = options) # 크롬창 켜기\n",
    "driver.get('https://www.ted.com/talks') # 페이지 접근\n",
    "time.sleep(1)\n",
    "driver.find_element(By.CSS_SELECTOR , '#close-pc-btn-handler').click()\n",
    "\n",
    "text = driver.find_element(By.CSS_SELECTOR , 'h2.text-textPrimary-onLight').text"
   ]
  },
  {
   "cell_type": "code",
   "execution_count": 181,
   "id": "00586203-f543-4529-bdac-b1062f44d27b",
   "metadata": {},
   "outputs": [
    {
     "name": "stdout",
     "output_type": "stream",
     "text": [
      "TED Talks: Discover ideas worth spreading\n"
     ]
    }
   ],
   "source": [
    "print(text)"
   ]
  },
  {
   "cell_type": "code",
   "execution_count": 178,
   "id": "7e627403-2561-4344-9362-ecf5540987a5",
   "metadata": {},
   "outputs": [],
   "source": [
    "driver.quit()"
   ]
  },
  {
   "cell_type": "code",
   "execution_count": null,
   "id": "5889654b-7588-4be7-9005-006253e2c3c0",
   "metadata": {},
   "outputs": [],
   "source": []
  }
 ],
 "metadata": {
  "kernelspec": {
   "display_name": "Python 3 (ipykernel)",
   "language": "python",
   "name": "python3"
  },
  "language_info": {
   "codemirror_mode": {
    "name": "ipython",
    "version": 3
   },
   "file_extension": ".py",
   "mimetype": "text/x-python",
   "name": "python",
   "nbconvert_exporter": "python",
   "pygments_lexer": "ipython3",
   "version": "3.12.4"
  },
  "toc": {
   "base_numbering": 1,
   "nav_menu": {},
   "number_sections": false,
   "sideBar": true,
   "skip_h1_title": false,
   "title_cell": "Table of Contents",
   "title_sidebar": "Contents",
   "toc_cell": false,
   "toc_position": {},
   "toc_section_display": true,
   "toc_window_display": false
  }
 },
 "nbformat": 4,
 "nbformat_minor": 5
}
