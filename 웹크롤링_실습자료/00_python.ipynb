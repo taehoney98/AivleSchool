{
 "cells": [
  {
   "cell_type": "markdown",
   "id": "78553185-e1e1-417b-ba2f-f1e3df7257ad",
   "metadata": {},
   "source": [
    "# Python\n",
    "- 컴퓨터의 CPU, RAM, SSD를 활용하기 위해서 학습\n",
    "1. 변수선언 : RAM 사용 문법 : 식별자(저장공간을 구분하는 문자열) : PEP20, PEP8(autopep8,flake8)\n",
    "2. 데이터타입 : RAM 효율적 사용 문법 : int, float, bool, str, list, tuple, dict, set\n",
    "3. 연산자 : CPU 사용 문법 : 산술, 비교, 논리, 할당, 멤버 ...\n",
    "4. 조건문, 반복문 : if, elif, else : while, for, break, continue, range() ...\n",
    "5. 함수 : 반복 사용되는 코드를 묶어서 코드 작성 실행 : def, return, scope(global), lambda ...\n",
    "6. 클래스 : 변수, 함수를 묶어서 코드 작성 실행 : 객체지향 구현 : class, self, special methods(생성자)\n",
    "7. 모듈 : 변수, 함수, 클래스를 파일로 묶어서 코드 작성 실행 : 확장자 .py\n",
    "8. 패키지 : 여러개의 모듈을 디렉토리로 묶어서 관리 : 버전정보 : import, from, as\n",
    "9. 입출력 : SSD 사용 문법 : RAM(object) > SSD(file), SSD(file) > RAM(object) : pickle\n"
   ]
  },
  {
   "cell_type": "code",
   "execution_count": 3,
   "id": "ba0d05d1-5e35-4af1-8d78-0707ba2c4196",
   "metadata": {},
   "outputs": [],
   "source": [
    "# import this"
   ]
  },
  {
   "cell_type": "markdown",
   "id": "d90e2d9c-bbab-4e7a-bef3-266e9c2a9b5e",
   "metadata": {},
   "source": [
    "# Class\n",
    "- 변수, 함수를 묶어서 코드 작성 실행\n",
    "- 객체지향 구현 : 실제세계를 모델링하여 프로그램을 개발하는 개발 방법론 : 협업이 용이함\n",
    "- 함수사용 : 함수선언(코드작성) > 함수호출(코드실행)\n",
    "- 클래스사용\n",
    "    - 클래스선언(코드작성:설계도작성) > 객체생성(메모리사용:제품생산) > 메서드실행(코드실행:제품사용)\n",
    "    - 메서드 : 클래스안에 선언되는 함수\n",
    "- class 식별자 : UpperCamelCase, PascalCase(O), snake_case(X:변수,함수)"
   ]
  },
  {
   "cell_type": "code",
   "execution_count": 13,
   "id": "e05fbf9e-4e50-4946-a553-3c2c531af03d",
   "metadata": {},
   "outputs": [],
   "source": [
    "# 1. 클래스선언 : 코드작성\n",
    "# 예금계좌 : Account : balance, deposit(), withdraw() \n",
    "class Account:\n",
    "    balance = 0\n",
    "    def deposit(self, amount):\n",
    "        self.balance += amount\n",
    "    def withdraw(self, amount):\n",
    "        self.balance -= amount"
   ]
  },
  {
   "cell_type": "code",
   "execution_count": 15,
   "id": "f73e57dc-bafa-41b7-962c-1889ec993a91",
   "metadata": {},
   "outputs": [],
   "source": [
    "# 2. 객체생성 : 메모리사용\n",
    "acc1 = Account()\n",
    "acc2 = Account()"
   ]
  },
  {
   "cell_type": "code",
   "execution_count": 21,
   "id": "2b247fc9-4710-45b8-9b61-d6b3418182bf",
   "metadata": {},
   "outputs": [
    {
     "data": {
      "text/plain": [
       "(['balance', 'deposit', 'withdraw'], ['balance', 'deposit', 'withdraw'])"
      ]
     },
     "execution_count": 21,
     "metadata": {},
     "output_type": "execute_result"
    }
   ],
   "source": [
    "# dir() : 객체 안에 들어있는 변수, 함수 목록 출력\n",
    "dir(acc1)[-3:], dir(acc2)[-3:]"
   ]
  },
  {
   "cell_type": "code",
   "execution_count": 27,
   "id": "f1acb49e-d04d-41c5-bc02-b4d2f545319f",
   "metadata": {},
   "outputs": [],
   "source": [
    "acc1.balance = 1000"
   ]
  },
  {
   "cell_type": "code",
   "execution_count": 29,
   "id": "9313af14-cedf-4f55-b213-dd5aa4886be5",
   "metadata": {},
   "outputs": [
    {
     "data": {
      "text/plain": [
       "(1000, 0)"
      ]
     },
     "execution_count": 29,
     "metadata": {},
     "output_type": "execute_result"
    }
   ],
   "source": [
    "acc1.balance, acc2.balance"
   ]
  },
  {
   "cell_type": "code",
   "execution_count": 31,
   "id": "bcabd5e2-82a4-4f30-ab1f-bac226def5a3",
   "metadata": {},
   "outputs": [
    {
     "data": {
      "text/plain": [
       "(1000, 0)"
      ]
     },
     "execution_count": 31,
     "metadata": {},
     "output_type": "execute_result"
    }
   ],
   "source": [
    "# 3. 메서드실행 : 코드실행\n",
    "acc1.balance, acc2.balance"
   ]
  },
  {
   "cell_type": "code",
   "execution_count": 33,
   "id": "c5c070b0-4019-4429-98ff-88eeada44b4d",
   "metadata": {},
   "outputs": [],
   "source": [
    "acc1.withdraw(600)\n",
    "acc2.deposit(3000)"
   ]
  },
  {
   "cell_type": "code",
   "execution_count": 35,
   "id": "2562cd81-2b3f-4ef2-8ab6-77baac930569",
   "metadata": {},
   "outputs": [
    {
     "data": {
      "text/plain": [
       "(400, 3000)"
      ]
     },
     "execution_count": 35,
     "metadata": {},
     "output_type": "execute_result"
    }
   ],
   "source": [
    "acc1.balance, acc2.balance"
   ]
  },
  {
   "cell_type": "code",
   "execution_count": null,
   "id": "34da8ceb-8c37-49a8-b112-a0e493478378",
   "metadata": {},
   "outputs": [],
   "source": [
    "# pandas DataFrame\n",
    "# 클래스선언(다른사람) > 객체생성(사용1) > 메서드호출(사용2)"
   ]
  },
  {
   "cell_type": "code",
   "execution_count": 40,
   "id": "a48ac2c0-267c-4e5f-8572-ad9c36d380bd",
   "metadata": {},
   "outputs": [],
   "source": [
    "# 1. 클래스선언 : 다른 사람이 만든 클래스 가져옴\n",
    "import pandas as pd"
   ]
  },
  {
   "cell_type": "code",
   "execution_count": 42,
   "id": "c2a6a70c-4ab0-4003-bff6-73ef625d2241",
   "metadata": {},
   "outputs": [
    {
     "data": {
      "text/html": [
       "<div>\n",
       "<style scoped>\n",
       "    .dataframe tbody tr th:only-of-type {\n",
       "        vertical-align: middle;\n",
       "    }\n",
       "\n",
       "    .dataframe tbody tr th {\n",
       "        vertical-align: top;\n",
       "    }\n",
       "\n",
       "    .dataframe thead th {\n",
       "        text-align: right;\n",
       "    }\n",
       "</style>\n",
       "<table border=\"1\" class=\"dataframe\">\n",
       "  <thead>\n",
       "    <tr style=\"text-align: right;\">\n",
       "      <th></th>\n",
       "      <th>id</th>\n",
       "      <th>name</th>\n",
       "    </tr>\n",
       "  </thead>\n",
       "  <tbody>\n",
       "    <tr>\n",
       "      <th>0</th>\n",
       "      <td>1</td>\n",
       "      <td>A</td>\n",
       "    </tr>\n",
       "    <tr>\n",
       "      <th>1</th>\n",
       "      <td>2</td>\n",
       "      <td>B</td>\n",
       "    </tr>\n",
       "    <tr>\n",
       "      <th>2</th>\n",
       "      <td>3</td>\n",
       "      <td>C</td>\n",
       "    </tr>\n",
       "  </tbody>\n",
       "</table>\n",
       "</div>"
      ],
      "text/plain": [
       "  id name\n",
       "0  1    A\n",
       "1  2    B\n",
       "2  3    C"
      ]
     },
     "execution_count": 42,
     "metadata": {},
     "output_type": "execute_result"
    }
   ],
   "source": [
    "# 2. 객체생성\n",
    "df = pd.DataFrame({'id': list('123'), 'name': list('ABC')})\n",
    "df"
   ]
  },
  {
   "cell_type": "code",
   "execution_count": 50,
   "id": "78d8fb7e-1594-4e76-9bb5-5300703356bd",
   "metadata": {},
   "outputs": [
    {
     "data": {
      "text/plain": [
       "id      123\n",
       "name    ABC\n",
       "dtype: object"
      ]
     },
     "execution_count": 50,
     "metadata": {},
     "output_type": "execute_result"
    }
   ],
   "source": [
    "# 3. 메서드호출\n",
    "# dir(df)\n",
    "# help(df.sum)\n",
    "df.sum()"
   ]
  },
  {
   "cell_type": "code",
   "execution_count": 54,
   "id": "3bb2b01f-8e02-43d0-91ea-5137608bc3d0",
   "metadata": {},
   "outputs": [
    {
     "data": {
      "text/html": [
       "<div>\n",
       "<style scoped>\n",
       "    .dataframe tbody tr th:only-of-type {\n",
       "        vertical-align: middle;\n",
       "    }\n",
       "\n",
       "    .dataframe tbody tr th {\n",
       "        vertical-align: top;\n",
       "    }\n",
       "\n",
       "    .dataframe thead th {\n",
       "        text-align: right;\n",
       "    }\n",
       "</style>\n",
       "<table border=\"1\" class=\"dataframe\">\n",
       "  <thead>\n",
       "    <tr style=\"text-align: right;\">\n",
       "      <th></th>\n",
       "      <th>0</th>\n",
       "      <th>1</th>\n",
       "      <th>2</th>\n",
       "    </tr>\n",
       "  </thead>\n",
       "  <tbody>\n",
       "    <tr>\n",
       "      <th>id</th>\n",
       "      <td>1</td>\n",
       "      <td>2</td>\n",
       "      <td>3</td>\n",
       "    </tr>\n",
       "    <tr>\n",
       "      <th>name</th>\n",
       "      <td>A</td>\n",
       "      <td>B</td>\n",
       "      <td>C</td>\n",
       "    </tr>\n",
       "  </tbody>\n",
       "</table>\n",
       "</div>"
      ],
      "text/plain": [
       "      0  1  2\n",
       "id    1  2  3\n",
       "name  A  B  C"
      ]
     },
     "execution_count": 54,
     "metadata": {},
     "output_type": "execute_result"
    }
   ],
   "source": [
    "df.T"
   ]
  },
  {
   "cell_type": "code",
   "execution_count": 56,
   "id": "6d8635a5-51df-441a-bd2e-f362e91fb859",
   "metadata": {},
   "outputs": [],
   "source": [
    "# 변수, 함수는 둘다 객체입니다.\n",
    "# 클래스는 사용자정의 데이터타입 입니다."
   ]
  },
  {
   "cell_type": "code",
   "execution_count": 60,
   "id": "4431314d-e33a-4386-9cc9-d465487c1d38",
   "metadata": {},
   "outputs": [
    {
     "data": {
      "text/plain": [
       "__main__.Account"
      ]
     },
     "execution_count": 60,
     "metadata": {},
     "output_type": "execute_result"
    }
   ],
   "source": [
    "# acc 객체 클래스 : Account : balance, withdraw(), deposit()\n",
    "# acc 객체 데이터타입 : Account\n",
    "# > 클래스는 데이터타입 입니다.\n",
    "# Account 클래스는 우리가 만듦 : 사용자정의\n",
    "# > 클래스는 사용자정의 데이터타입 입니다.\n",
    "acc = Account()\n",
    "type(acc)"
   ]
  },
  {
   "cell_type": "code",
   "execution_count": 62,
   "id": "b91c7770-0f6e-4ec5-bbb0-08820ca47658",
   "metadata": {},
   "outputs": [
    {
     "data": {
      "text/plain": [
       "str"
      ]
     },
     "execution_count": 62,
     "metadata": {},
     "output_type": "execute_result"
    }
   ],
   "source": [
    "# data1 객체 데이터타입 : str\n",
    "# data1 객체 클래스 : str : upper(), lower(), join() ...\n",
    "data1 = 'python'\n",
    "type(data1)"
   ]
  },
  {
   "cell_type": "code",
   "execution_count": 72,
   "id": "3eead57e-dffd-48e2-8a67-5571775ad120",
   "metadata": {},
   "outputs": [
    {
     "data": {
      "text/plain": [
       "['translate', 'upper', 'zfill']"
      ]
     },
     "execution_count": 72,
     "metadata": {},
     "output_type": "execute_result"
    }
   ],
   "source": [
    "dir(data1)[-3:]"
   ]
  },
  {
   "cell_type": "code",
   "execution_count": 86,
   "id": "884ad391-43e1-463e-932e-f802028d150d",
   "metadata": {},
   "outputs": [],
   "source": [
    "# help(data1.upper)"
   ]
  },
  {
   "cell_type": "code",
   "execution_count": 68,
   "id": "b6ad89d5-ced4-4ad9-8ac9-cea30ac6e623",
   "metadata": {},
   "outputs": [
    {
     "data": {
      "text/plain": [
       "list"
      ]
     },
     "execution_count": 68,
     "metadata": {},
     "output_type": "execute_result"
    }
   ],
   "source": [
    "# data2 객체 데이터타입, 클래스 : list\n",
    "data2 = [1, 3, 2]\n",
    "type(data2)"
   ]
  },
  {
   "cell_type": "code",
   "execution_count": 78,
   "id": "09eda3a2-af13-462b-8f95-dff21a6aca44",
   "metadata": {},
   "outputs": [
    {
     "data": {
      "text/plain": [
       "['remove', 'reverse', 'sort']"
      ]
     },
     "execution_count": 78,
     "metadata": {},
     "output_type": "execute_result"
    }
   ],
   "source": [
    "dir(data2)[-3:]"
   ]
  },
  {
   "cell_type": "code",
   "execution_count": 84,
   "id": "bfb1e4cd-3e99-4771-a8b3-ef9f84acdbce",
   "metadata": {},
   "outputs": [],
   "source": [
    "# help(data2.sort)"
   ]
  },
  {
   "cell_type": "code",
   "execution_count": 82,
   "id": "dd3b6176-08c1-4922-a5ba-16ed99730909",
   "metadata": {},
   "outputs": [],
   "source": [
    "# > 객체는 어떤 데이터타입(클래스)인지에 따라서 사용가능한 변수,메서드가 달라집니다."
   ]
  },
  {
   "cell_type": "code",
   "execution_count": 66,
   "id": "3a98a2eb-6ef9-4da2-ab6f-7a6b8fea03c7",
   "metadata": {},
   "outputs": [
    {
     "data": {
      "text/plain": [
       "(numpy.ndarray, array([1, 2, 3]))"
      ]
     },
     "execution_count": 66,
     "metadata": {},
     "output_type": "execute_result"
    }
   ],
   "source": [
    "import numpy as np\n",
    "arr = np.array([1, 2, 3])\n",
    "type(arr), arr"
   ]
  },
  {
   "cell_type": "code",
   "execution_count": 108,
   "id": "02f256c2-a6cf-4ba2-a5f2-28330df5090b",
   "metadata": {},
   "outputs": [
    {
     "name": "stdin",
     "output_type": "stream",
     "text": [
      "Once deleted, variables cannot be recovered. Proceed (y/[n])?  y\n"
     ]
    }
   ],
   "source": [
    "%reset\n",
    "# 현재 선언된 변수 초기화"
   ]
  },
  {
   "cell_type": "code",
   "execution_count": 110,
   "id": "55104572-b579-407e-b840-0175bd03c9e6",
   "metadata": {},
   "outputs": [],
   "source": [
    "# 변수, 함수는 둘다 객체입니다.\n",
    "data = 1"
   ]
  },
  {
   "cell_type": "code",
   "execution_count": 112,
   "id": "d35f4667-c6bd-4d85-b4f0-1388f629912d",
   "metadata": {},
   "outputs": [],
   "source": [
    "def plus():\n",
    "    return 1 + 2"
   ]
  },
  {
   "cell_type": "code",
   "execution_count": 114,
   "id": "2681ef34-596f-4c5c-bdc2-2668b786319a",
   "metadata": {},
   "outputs": [
    {
     "data": {
      "text/plain": [
       "(int, function)"
      ]
     },
     "execution_count": 114,
     "metadata": {},
     "output_type": "execute_result"
    }
   ],
   "source": [
    "type(data), type(plus)"
   ]
  },
  {
   "cell_type": "code",
   "execution_count": 116,
   "id": "8130e428-53c3-4641-a463-0274b9221d25",
   "metadata": {},
   "outputs": [
    {
     "name": "stdout",
     "output_type": "stream",
     "text": [
      "Variable               Type        Data/Info\n",
      "--------------------------------------------\n",
      "data                   int         1\n",
      "dataframe_columns      function    <function dataframe_colum<...>ns at 0x000001ECC1465940>\n",
      "dataframe_hash         function    <function dataframe_hash at 0x000001ECC26398A0>\n",
      "dtypes_str             function    <function dtypes_str at 0x000001ECC263ADE0>\n",
      "get_dataframes         function    <function get_dataframes at 0x000001ECC263AB60>\n",
      "getpass                module      <module 'getpass' from 'C<...>conda3\\\\Lib\\\\getpass.py'>\n",
      "hashlib                module      <module 'hashlib' from 'C<...>conda3\\\\Lib\\\\hashlib.py'>\n",
      "import_pandas_safely   function    <function import_pandas_s<...>ly at 0x000001ECC263C400>\n",
      "is_data_frame          function    <function is_data_frame at 0x000001ECC263B420>\n",
      "json                   module      <module 'json' from 'C:\\\\<...>\\Lib\\\\json\\\\__init__.py'>\n",
      "plus                   function    <function plus at 0x000001ECC26396C0>\n"
     ]
    }
   ],
   "source": [
    "%whos\n",
    "# 현재 선언된 객체 목록 출력"
   ]
  },
  {
   "cell_type": "code",
   "execution_count": 118,
   "id": "9916a4af-c465-45fb-8826-0c51454851a3",
   "metadata": {},
   "outputs": [],
   "source": [
    "# special methods \n",
    "# - 특별한 기능을 하는 메서드\n",
    "# - 앞뒤로 __가 붙은 메서드\n",
    "# - 대표적으로 생성자 메서드"
   ]
  },
  {
   "cell_type": "code",
   "execution_count": null,
   "id": "da344a7f-830e-49cf-9e44-6b9c78d273be",
   "metadata": {},
   "outputs": [],
   "source": [
    "# 생성자 메서드 : __init__(self)\n",
    "# - 특별한 기능 : 객체 생성시 실행되는 메서드"
   ]
  },
  {
   "cell_type": "code",
   "execution_count": 164,
   "id": "c80949f7-b0a6-4071-a24d-a7b3dddd5d89",
   "metadata": {},
   "outputs": [],
   "source": [
    "# 클래스선언\n",
    "class Account:\n",
    "    # 생성자 메서드 : 메서드에서 사용되는 변수의 초기값 설정하는 용도 사용\n",
    "    def __init__(self, balance):\n",
    "        self.balance = balance\n",
    "    def deposit(self, amount):\n",
    "        self.balance += amount\n",
    "    def withdraw(self, amount):\n",
    "        self.balance -= amount"
   ]
  },
  {
   "cell_type": "code",
   "execution_count": 166,
   "id": "a29b10e5-aa08-4baa-83dd-fe32354cd398",
   "metadata": {},
   "outputs": [],
   "source": [
    "# 객체생성 : 메모리사용 : 원자재사용\n",
    "acc = Account(1000)"
   ]
  },
  {
   "cell_type": "code",
   "execution_count": 168,
   "id": "0977990c-c103-41f2-bc6e-9f2d8370d925",
   "metadata": {},
   "outputs": [],
   "source": [
    "# 메서드호출 : 불량품 생산\n",
    "acc.deposit(1000)"
   ]
  },
  {
   "cell_type": "code",
   "execution_count": 170,
   "id": "41028834-6d36-444b-8ae3-7d5832b2a40d",
   "metadata": {},
   "outputs": [
    {
     "data": {
      "text/plain": [
       "2000"
      ]
     },
     "execution_count": 170,
     "metadata": {},
     "output_type": "execute_result"
    }
   ],
   "source": [
    "acc.balance"
   ]
  },
  {
   "cell_type": "code",
   "execution_count": null,
   "id": "a89f1779-a0b6-4678-91af-d7f97003a805",
   "metadata": {},
   "outputs": [],
   "source": [
    "# mangling(private variable), getter, setter 내용을 같이"
   ]
  },
  {
   "cell_type": "code",
   "execution_count": 172,
   "id": "49a9e16c-7e63-4028-b8ac-1408da2fb581",
   "metadata": {},
   "outputs": [],
   "source": [
    "d1, d2 = 1, 2\n",
    "d3, d4 = '3', '4'"
   ]
  },
  {
   "cell_type": "code",
   "execution_count": 174,
   "id": "7f57b02c-b6d3-49b4-b6ce-9a4f1fd32047",
   "metadata": {},
   "outputs": [
    {
     "data": {
      "text/plain": [
       "(int, int, str, str)"
      ]
     },
     "execution_count": 174,
     "metadata": {},
     "output_type": "execute_result"
    }
   ],
   "source": [
    "type(d1), type(d2), type(d3), type(d4)"
   ]
  },
  {
   "cell_type": "code",
   "execution_count": 176,
   "id": "6565adc1-4362-4940-a652-0e15606ccb48",
   "metadata": {},
   "outputs": [
    {
     "data": {
      "text/plain": [
       "(3, '34')"
      ]
     },
     "execution_count": 176,
     "metadata": {},
     "output_type": "execute_result"
    }
   ],
   "source": [
    "# 데이터 타입이 다르면 같은 연산자라도 다르게 연산 수행 됩니다.\n",
    "d1 + d2, d3 + d4"
   ]
  },
  {
   "cell_type": "code",
   "execution_count": 182,
   "id": "1fc258b3-f34b-4b1d-99a3-0445ef535a2b",
   "metadata": {},
   "outputs": [
    {
     "data": {
      "text/plain": [
       "3"
      ]
     },
     "execution_count": 182,
     "metadata": {},
     "output_type": "execute_result"
    }
   ],
   "source": [
    "# __add__ : + 연산자에 대한 코드 정의\n",
    "# dir(d1)\n",
    "d1.__add__(d2) # int 클래스의 __add__() 메서드 호출"
   ]
  },
  {
   "cell_type": "code",
   "execution_count": 186,
   "id": "97932388-7a6f-4faf-a14c-396be43ca336",
   "metadata": {},
   "outputs": [
    {
     "data": {
      "text/plain": [
       "'34'"
      ]
     },
     "execution_count": 186,
     "metadata": {},
     "output_type": "execute_result"
    }
   ],
   "source": [
    "# dir(d3)\n",
    "d3.__add__(d4) # str 클래스의 __add__() 메서드 호출"
   ]
  },
  {
   "cell_type": "code",
   "execution_count": 194,
   "id": "56578492-cbd3-4259-bbb5-40a998855d80",
   "metadata": {},
   "outputs": [],
   "source": [
    "class Number:\n",
    "    def __init__(self, data):\n",
    "        self.data = data\n",
    "    def __add__(self, obj):\n",
    "        self.data -= obj.data\n",
    "        return self.data"
   ]
  },
  {
   "cell_type": "code",
   "execution_count": 196,
   "id": "219da809-1038-4b38-adc1-0c7201828df7",
   "metadata": {},
   "outputs": [],
   "source": [
    "num1 = Number(3)\n",
    "num2 = Number(2)"
   ]
  },
  {
   "cell_type": "code",
   "execution_count": 198,
   "id": "69f96d67-da02-4b4f-b4c9-59075e8b96d2",
   "metadata": {},
   "outputs": [
    {
     "data": {
      "text/plain": [
       "1"
      ]
     },
     "execution_count": 198,
     "metadata": {},
     "output_type": "execute_result"
    }
   ],
   "source": [
    "num1 + num2"
   ]
  },
  {
   "cell_type": "code",
   "execution_count": 200,
   "id": "c83bbc67-f47b-43ca-952a-5babf71f6099",
   "metadata": {},
   "outputs": [
    {
     "data": {
      "text/plain": [
       "['__add__',\n",
       " '__class__',\n",
       " '__delattr__',\n",
       " '__dict__',\n",
       " '__dir__',\n",
       " '__doc__',\n",
       " '__eq__',\n",
       " '__format__',\n",
       " '__ge__',\n",
       " '__getattribute__',\n",
       " '__getstate__',\n",
       " '__gt__',\n",
       " '__hash__',\n",
       " '__init__',\n",
       " '__init_subclass__',\n",
       " '__le__',\n",
       " '__lt__',\n",
       " '__module__',\n",
       " '__ne__',\n",
       " '__new__',\n",
       " '__reduce__',\n",
       " '__reduce_ex__',\n",
       " '__repr__',\n",
       " '__setattr__',\n",
       " '__sizeof__',\n",
       " '__str__',\n",
       " '__subclasshook__',\n",
       " '__weakref__',\n",
       " 'data']"
      ]
     },
     "execution_count": 200,
     "metadata": {},
     "output_type": "execute_result"
    }
   ],
   "source": [
    "dir(num1)"
   ]
  },
  {
   "cell_type": "code",
   "execution_count": null,
   "id": "dce34bc2-bfe1-4334-b060-0de645ff8e1c",
   "metadata": {},
   "outputs": [],
   "source": []
  },
  {
   "cell_type": "code",
   "execution_count": null,
   "id": "471d85d0-c3fb-4f51-a2ba-96019302ce6c",
   "metadata": {},
   "outputs": [],
   "source": []
  }
 ],
 "metadata": {
  "kernelspec": {
   "display_name": "Python 3 (ipykernel)",
   "language": "python",
   "name": "python3"
  },
  "language_info": {
   "codemirror_mode": {
    "name": "ipython",
    "version": 3
   },
   "file_extension": ".py",
   "mimetype": "text/x-python",
   "name": "python",
   "nbconvert_exporter": "python",
   "pygments_lexer": "ipython3",
   "version": "3.12.4"
  }
 },
 "nbformat": 4,
 "nbformat_minor": 5
}
