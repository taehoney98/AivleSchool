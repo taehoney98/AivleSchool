{
 "cells": [
  {
   "cell_type": "markdown",
   "id": "ce44dd79",
   "metadata": {},
   "source": [
    "### Daum Exchange\n",
    "- `https://finance.daum.net`"
   ]
  },
  {
   "cell_type": "code",
   "execution_count": 3,
   "id": "bcf5c3fb",
   "metadata": {},
   "outputs": [],
   "source": [
    "import warnings\n",
    "warnings.filterwarnings('ignore')\n",
    "import pandas as pd\n",
    "import requests"
   ]
  },
  {
   "cell_type": "code",
   "execution_count": 4,
   "id": "73ac785a-7662-43bf-ab9f-e1f685aab022",
   "metadata": {},
   "outputs": [
    {
     "data": {
      "text/plain": [
       "<Response [200]>"
      ]
     },
     "execution_count": 4,
     "metadata": {},
     "output_type": "execute_result"
    }
   ],
   "source": [
    "url = \"https://finance.daum.net/api/exchanges/summaries\"\n",
    "headers = {\n",
    "    'User-Agent': 'Mozilla/5.0 (Macintosh; Intel Mac OS X 10_15_7) \\\n",
    "AppleWebKit/537.36 (KHTML, like Gecko) Chrome/116.0.0.0 Safari/537.36',\n",
    "    'Referer': 'https://finance.daum.net',\n",
    "}\n",
    "# response = requests.get(url)\n",
    "response = requests.get(url, headers=headers)\n",
    "response"
   ]
  },
  {
   "cell_type": "code",
   "execution_count": 5,
   "id": "968229ac-4c5c-4fc6-93c0-775b87a13969",
   "metadata": {},
   "outputs": [
    {
     "data": {
      "text/html": [
       "<div>\n",
       "<style scoped>\n",
       "    .dataframe tbody tr th:only-of-type {\n",
       "        vertical-align: middle;\n",
       "    }\n",
       "\n",
       "    .dataframe tbody tr th {\n",
       "        vertical-align: top;\n",
       "    }\n",
       "\n",
       "    .dataframe thead th {\n",
       "        text-align: right;\n",
       "    }\n",
       "</style>\n",
       "<table border=\"1\" class=\"dataframe\">\n",
       "  <thead>\n",
       "    <tr style=\"text-align: right;\">\n",
       "      <th></th>\n",
       "      <th>symbolCode</th>\n",
       "      <th>date</th>\n",
       "      <th>currencyCode</th>\n",
       "      <th>currencyName</th>\n",
       "      <th>currencyUnit</th>\n",
       "      <th>country</th>\n",
       "      <th>region</th>\n",
       "      <th>name</th>\n",
       "      <th>recurrenceCount</th>\n",
       "      <th>basePrice</th>\n",
       "      <th>...</th>\n",
       "      <th>changeRate</th>\n",
       "      <th>ttBuyingPrice</th>\n",
       "      <th>ttSellingPrice</th>\n",
       "      <th>cashBuyingPrice</th>\n",
       "      <th>cashSellingPrice</th>\n",
       "      <th>tcBuyingPrice</th>\n",
       "      <th>fcSellingPrice</th>\n",
       "      <th>exchangeCommission</th>\n",
       "      <th>usDollarRate</th>\n",
       "      <th>chartImageUrl</th>\n",
       "    </tr>\n",
       "  </thead>\n",
       "  <tbody>\n",
       "    <tr>\n",
       "      <th>0</th>\n",
       "      <td>FRX.KRWUSD</td>\n",
       "      <td>2024-09-20 23:50:00</td>\n",
       "      <td>USD</td>\n",
       "      <td>달러</td>\n",
       "      <td>1</td>\n",
       "      <td>미국</td>\n",
       "      <td>{'korName': '아메리카', 'engName': 'America'}</td>\n",
       "      <td>미국 (USD/KRW)</td>\n",
       "      <td>841</td>\n",
       "      <td>1336.0</td>\n",
       "      <td>...</td>\n",
       "      <td>0.004511</td>\n",
       "      <td>1323.0</td>\n",
       "      <td>1349.0</td>\n",
       "      <td>1359.38</td>\n",
       "      <td>1312.62</td>\n",
       "      <td>None</td>\n",
       "      <td>None</td>\n",
       "      <td>6.76991</td>\n",
       "      <td>1.0</td>\n",
       "      <td>{'day': 'https://t1.daumcdn.net/media/finance/...</td>\n",
       "    </tr>\n",
       "  </tbody>\n",
       "</table>\n",
       "<p>1 rows × 22 columns</p>\n",
       "</div>"
      ],
      "text/plain": [
       "   symbolCode                 date currencyCode currencyName  currencyUnit  \\\n",
       "0  FRX.KRWUSD  2024-09-20 23:50:00          USD           달러             1   \n",
       "\n",
       "  country                                     region          name  \\\n",
       "0      미국  {'korName': '아메리카', 'engName': 'America'}  미국 (USD/KRW)   \n",
       "\n",
       "   recurrenceCount  basePrice  ... changeRate  ttBuyingPrice  ttSellingPrice  \\\n",
       "0              841     1336.0  ...   0.004511         1323.0          1349.0   \n",
       "\n",
       "   cashBuyingPrice  cashSellingPrice  tcBuyingPrice  fcSellingPrice  \\\n",
       "0          1359.38           1312.62           None            None   \n",
       "\n",
       "  exchangeCommission usDollarRate  \\\n",
       "0            6.76991          1.0   \n",
       "\n",
       "                                       chartImageUrl  \n",
       "0  {'day': 'https://t1.daumcdn.net/media/finance/...  \n",
       "\n",
       "[1 rows x 22 columns]"
      ]
     },
     "execution_count": 5,
     "metadata": {},
     "output_type": "execute_result"
    }
   ],
   "source": [
    "datas = response.json()[\"data\"]\n",
    "df = pd.DataFrame(datas)\n",
    "df.head(1)"
   ]
  },
  {
   "cell_type": "code",
   "execution_count": 6,
   "id": "600581b9-76b9-4fa5-92d4-d91a7fa5771d",
   "metadata": {},
   "outputs": [
    {
     "data": {
      "text/html": [
       "<div>\n",
       "<style scoped>\n",
       "    .dataframe tbody tr th:only-of-type {\n",
       "        vertical-align: middle;\n",
       "    }\n",
       "\n",
       "    .dataframe tbody tr th {\n",
       "        vertical-align: top;\n",
       "    }\n",
       "\n",
       "    .dataframe thead th {\n",
       "        text-align: right;\n",
       "    }\n",
       "</style>\n",
       "<table border=\"1\" class=\"dataframe\">\n",
       "  <thead>\n",
       "    <tr style=\"text-align: right;\">\n",
       "      <th></th>\n",
       "      <th>date</th>\n",
       "      <th>currencyCode</th>\n",
       "      <th>currencyName</th>\n",
       "      <th>country</th>\n",
       "      <th>name</th>\n",
       "      <th>basePrice</th>\n",
       "    </tr>\n",
       "  </thead>\n",
       "  <tbody>\n",
       "    <tr>\n",
       "      <th>0</th>\n",
       "      <td>2024-09-20 23:50:00</td>\n",
       "      <td>USD</td>\n",
       "      <td>달러</td>\n",
       "      <td>미국</td>\n",
       "      <td>미국 (USD/KRW)</td>\n",
       "      <td>1336.00</td>\n",
       "    </tr>\n",
       "    <tr>\n",
       "      <th>1</th>\n",
       "      <td>2024-09-20 23:50:00</td>\n",
       "      <td>JPY</td>\n",
       "      <td>엔</td>\n",
       "      <td>일본</td>\n",
       "      <td>일본 (JPY100/KRW)</td>\n",
       "      <td>929.46</td>\n",
       "    </tr>\n",
       "    <tr>\n",
       "      <th>2</th>\n",
       "      <td>2024-09-20 23:50:00</td>\n",
       "      <td>CNY</td>\n",
       "      <td>위안</td>\n",
       "      <td>중국</td>\n",
       "      <td>중국 (CNY/KRW)</td>\n",
       "      <td>189.69</td>\n",
       "    </tr>\n",
       "    <tr>\n",
       "      <th>3</th>\n",
       "      <td>2024-09-20 23:50:00</td>\n",
       "      <td>EUR</td>\n",
       "      <td>유로</td>\n",
       "      <td>유로</td>\n",
       "      <td>유로 (EUR/KRW)</td>\n",
       "      <td>1492.91</td>\n",
       "    </tr>\n",
       "    <tr>\n",
       "      <th>4</th>\n",
       "      <td>2024-09-20 23:50:00</td>\n",
       "      <td>GBP</td>\n",
       "      <td>파운드</td>\n",
       "      <td>영국</td>\n",
       "      <td>영국 (GBP/KRW)</td>\n",
       "      <td>1780.95</td>\n",
       "    </tr>\n",
       "  </tbody>\n",
       "</table>\n",
       "</div>"
      ],
      "text/plain": [
       "                  date currencyCode currencyName country             name  \\\n",
       "0  2024-09-20 23:50:00          USD           달러      미국     미국 (USD/KRW)   \n",
       "1  2024-09-20 23:50:00          JPY            엔      일본  일본 (JPY100/KRW)   \n",
       "2  2024-09-20 23:50:00          CNY           위안      중국     중국 (CNY/KRW)   \n",
       "3  2024-09-20 23:50:00          EUR           유로      유로     유로 (EUR/KRW)   \n",
       "4  2024-09-20 23:50:00          GBP          파운드      영국     영국 (GBP/KRW)   \n",
       "\n",
       "   basePrice  \n",
       "0    1336.00  \n",
       "1     929.46  \n",
       "2     189.69  \n",
       "3    1492.91  \n",
       "4    1780.95  "
      ]
     },
     "execution_count": 6,
     "metadata": {},
     "output_type": "execute_result"
    }
   ],
   "source": [
    "columns = [\"date\", \"currencyCode\", \"currencyName\", \"country\", \"name\", \"basePrice\"]\n",
    "df[columns].head()"
   ]
  }
 ],
 "metadata": {
  "kernelspec": {
   "display_name": "Python 3 (ipykernel)",
   "language": "python",
   "name": "python3"
  },
  "language_info": {
   "codemirror_mode": {
    "name": "ipython",
    "version": 3
   },
   "file_extension": ".py",
   "mimetype": "text/x-python",
   "name": "python",
   "nbconvert_exporter": "python",
   "pygments_lexer": "ipython3",
   "version": "3.12.4"
  }
 },
 "nbformat": 4,
 "nbformat_minor": 5
}
