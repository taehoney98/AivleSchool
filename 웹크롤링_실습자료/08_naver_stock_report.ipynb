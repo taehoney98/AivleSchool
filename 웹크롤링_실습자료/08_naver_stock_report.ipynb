{
 "cells": [
  {
   "cell_type": "code",
   "execution_count": 254,
   "id": "e73faf74-6fd7-4426-b3ac-3ae3be521bec",
   "metadata": {},
   "outputs": [],
   "source": [
    "#   패키지 임포트"
   ]
  },
  {
   "cell_type": "code",
   "execution_count": 255,
   "id": "1ee3a95c-b8a7-4835-8347-2a3195fb2e97",
   "metadata": {},
   "outputs": [],
   "source": [
    "import requests\n",
    "import pandas as pd\n",
    "from bs4 import BeautifulSoup"
   ]
  },
  {
   "cell_type": "markdown",
   "id": "1a44255c-0880-4595-b2e7-5dfd1f5cbd2c",
   "metadata": {},
   "source": [
    "#### 1. URL 찾기"
   ]
  },
  {
   "cell_type": "code",
   "execution_count": 257,
   "id": "41182c6c-a026-4f8d-8e00-609856a995e9",
   "metadata": {},
   "outputs": [],
   "source": [
    "url = 'https://finance.naver.com/research/company_list.naver?%page=1'\n"
   ]
  },
  {
   "cell_type": "markdown",
   "id": "a368fdac-873c-470d-9906-e9e9932bc82b",
   "metadata": {},
   "source": [
    "#### 2. request(url))> response (HTML) : str(html)"
   ]
  },
  {
   "cell_type": "code",
   "execution_count": 259,
   "id": "dace6e22-88e5-4c6b-900f-eeea0950a37f",
   "metadata": {},
   "outputs": [
    {
     "data": {
      "text/plain": [
       "<Response [200]>"
      ]
     },
     "execution_count": 259,
     "metadata": {},
     "output_type": "execute_result"
    }
   ],
   "source": [
    "response =requests.get(url)\n",
    "response"
   ]
  },
  {
   "cell_type": "code",
   "execution_count": 260,
   "id": "97a3894c-749a-4a8c-8b20-7cf0e887ab6f",
   "metadata": {},
   "outputs": [
    {
     "data": {
      "text/plain": [
       "'<!--  global include -->\\n\\n\\t\\n\\t\\n\\t\\n\\t\\n\\t\\n<html lang=\\'ko\\'>\\n<head>\\n\\n\\n\\t\\n\\t\\n\\t\\t\\n\\t\\t\\t\\n\\t\\t\\t\\n\\t\\t\\t\\t<title>종목분석 리포트 : 네이버페이 증권</title>\\n\\t\\t\\t\\n\\t\\t\\n\\t\\n\\n\\n\\n\\n<meta http-equiv=\"Content-Type\" content=\"text/html; charset=utf-8\" />\\n\\n'"
      ]
     },
     "execution_count": 260,
     "metadata": {},
     "output_type": "execute_result"
    }
   ],
   "source": [
    "response.text[:200]"
   ]
  },
  {
   "cell_type": "markdown",
   "id": "8868753f-98b4-40be-ba8b-50f522a87dc7",
   "metadata": {},
   "source": [
    "#### 3. HTML > BeautifulSoup > DataFrame : 데이터 파싱 좀 어려움"
   ]
  },
  {
   "cell_type": "code",
   "execution_count": 262,
   "id": "b08ea42e-ad86-4c71-ae43-eed0c8871a9b",
   "metadata": {},
   "outputs": [
    {
     "data": {
      "text/plain": [
       "bs4.BeautifulSoup"
      ]
     },
     "execution_count": 262,
     "metadata": {},
     "output_type": "execute_result"
    }
   ],
   "source": [
    "dom = BeautifulSoup (response.content , 'html.parser') #content 나 text나 또이또이\n",
    "type(dom) # select(css-selector), select_one()"
   ]
  },
  {
   "cell_type": "code",
   "execution_count": 263,
   "id": "bec48ab5-50a6-4b1a-946d-1fe43ce79a01",
   "metadata": {},
   "outputs": [
    {
     "data": {
      "text/plain": [
       "49"
      ]
     },
     "execution_count": 263,
     "metadata": {},
     "output_type": "execute_result"
    }
   ],
   "source": [
    "selector = '#contentarea_left > div.box_type_m > table.type_1 >tr' # 이렇게 해도 문제 x\n",
    "\n",
    "'''\n",
    "\n",
    "selector = '#contentarea_left> ' #문제 없음\n",
    "selector = '#contentarea_left> div.box_type_m' #문제 없음\n",
    "selector = '#contentarea_left> div.box_type_m> table.type_1  ' #문제 없음\n",
    "selector = '#contentarea_left> div.box_type_m> table.type_1 >tbody ' #하나씩 찍어보니 tbody가 없음\n",
    "\n",
    "'''\n",
    "\n",
    "selector = 'table.type_1 >tr'# 필요 데이터만사용 위해 단축\n",
    "\n",
    "elements = dom.select(selector)\n",
    "len(elements)\n",
    "\n",
    "\n"
   ]
  },
  {
   "cell_type": "code",
   "execution_count": 264,
   "id": "18f51d01-1625-4435-a084-580296ca9cc8",
   "metadata": {},
   "outputs": [
    {
     "data": {
      "text/plain": [
       "<tr>\n",
       "<td style=\"padding-left:10\">\n",
       "<a class=\"stock_item\" href=\"/item/main.naver?code=066570\" title=\"LG전자\">LG전자</a>\n",
       "</td>\n",
       "<td><a href=\"company_read.naver?nid=77126&amp;page=1\">AI데이터센터 냉각 시장 공략</a><img alt=\"NEW\" class=\"ico_new\" height=\"8\" src=\"https://ssl.pstatic.net/imgstock/images5/ico_research_new.gif\" width=\"8\"/></td>\n",
       "<td>교보증권</td>\n",
       "<td class=\"file\"><a href=\"https://stock.pstatic.net/stock-research/company/34/20240923_company_481199000.pdf\" target=\"_blank\"><img align=\"absmiddle\" alt=\"pdf\" src=\"https://ssl.pstatic.net/imgstock/images5/down.gif\"/></a></td>\n",
       "<td class=\"date\" style=\"padding-left:5px\">24.09.23</td>\n",
       "<td class=\"date\">515</td>\n",
       "</tr>"
      ]
     },
     "execution_count": 264,
     "metadata": {},
     "output_type": "execute_result"
    }
   ],
   "source": [
    "elements[2]"
   ]
  },
  {
   "cell_type": "code",
   "execution_count": 265,
   "id": "4cecd7fc-1b63-4021-9897-c1d24f9e354c",
   "metadata": {},
   "outputs": [
    {
     "data": {
      "text/plain": [
       "(6,\n",
       " [<td style=\"padding-left:10\">\n",
       "  <a class=\"stock_item\" href=\"/item/main.naver?code=066570\" title=\"LG전자\">LG전자</a>\n",
       "  </td>,\n",
       "  <td><a href=\"company_read.naver?nid=77126&amp;page=1\">AI데이터센터 냉각 시장 공략</a><img alt=\"NEW\" class=\"ico_new\" height=\"8\" src=\"https://ssl.pstatic.net/imgstock/images5/ico_research_new.gif\" width=\"8\"/></td>,\n",
       "  <td>교보증권</td>,\n",
       "  <td class=\"file\"><a href=\"https://stock.pstatic.net/stock-research/company/34/20240923_company_481199000.pdf\" target=\"_blank\"><img align=\"absmiddle\" alt=\"pdf\" src=\"https://ssl.pstatic.net/imgstock/images5/down.gif\"/></a></td>,\n",
       "  <td class=\"date\" style=\"padding-left:5px\">24.09.23</td>,\n",
       "  <td class=\"date\">515</td>])"
      ]
     },
     "execution_count": 265,
     "metadata": {},
     "output_type": "execute_result"
    }
   ],
   "source": [
    " # lg전자 ,이름, 제목, pdf, 교보증권, 링크, 날짜, 번호 7개 수집\n",
    "element = elements[2]\n",
    "tag = element.select('td') # elements에 있는 <td> 태그 6개를 선택\n",
    "len(tag), tag"
   ]
  },
  {
   "cell_type": "code",
   "execution_count": 266,
   "id": "d78a4144-d282-4abd-bef7-98271cfdeb1b",
   "metadata": {},
   "outputs": [
    {
     "data": {
      "text/plain": [
       "{'stock_name': 'LG전자',\n",
       " 'stock_link': '/item/main.naver?code=066570',\n",
       " 'title': 'AI데이터센터 냉각 시장 공략',\n",
       " 'title_link': 'company_read.naver?nid=77126&page=1',\n",
       " 'writer': '교보증권',\n",
       " 'pdf_link': 'https://stock.pstatic.net/stock-research/company/34/20240923_company_481199000.pdf',\n",
       " 'date': '24.09.23',\n",
       " 'pv': '515'}"
      ]
     },
     "execution_count": 266,
     "metadata": {},
     "output_type": "execute_result"
    }
   ],
   "source": [
    "data = {}\n",
    "data['stock_name'] = tag[0].select_one('a').text # 첫번째 <td>에서 'a' 태그를 가진 값 선택해 stock_name로 설정\n",
    "# data['stock_name'] = tag[0].select('a')[0].text # select 로 하면 리스트로 나와서 첫번쨰 값을 설정 해줘야함\n",
    "\n",
    "data['stock_link'] = tag[0].select_one('a').get('href') # 'a'태그의 href 속성값을 가져온다\n",
    "data['title']=tag[1].select_one('a').text\n",
    "data['title_link']=tag[1].select_one('a').get('href')\n",
    "\n",
    "\n",
    "data['writer']=tag[2].text# 교보증권\n",
    "data['pdf_link']=tag[3].select_one('a').get('href')\n",
    "data['date']=tag[4].text # td 태그의 4번\n",
    "data['pv'] = tag[5].text #td 태그의 5번\n",
    "data\n",
    "\n",
    "\n",
    "## 이런식으로 하나하나 수집 가능"
   ]
  },
  {
   "cell_type": "code",
   "execution_count": 267,
   "id": "82f9ef02-4936-4a91-bf0d-a2dfa2c7ffda",
   "metadata": {},
   "outputs": [],
   "source": [
    "# 30개를 수집 하려면?반복문 사용\n",
    "\n",
    "\n",
    "#enumerate 사용해 인덱스 값 추가\n",
    "\n",
    "'''\n",
    "for idx, element in enumerate (elements):\n",
    "    print( idx, element) # elements의 tr태그로 구분\n",
    "    print('-' * 100)\n",
    "'''\n",
    "\n",
    "\n",
    "rows = []\n",
    "for idx, element in enumerate(elements):\n",
    "    tag = element.select('td')\n",
    "    #print(idx, len(tag))\n",
    "    if len(tag) == 6: # td태그가 6개일 경우에만 수집하길 원하는 정보가 있으므로\n",
    "        data = {}\n",
    "        data['stock_name'] = tag[0].select_one('a').text\n",
    "        data['stock_link'] = tag[0].select_one('a').get('href')\n",
    "        data['title'] = tag[1].select_one('a').text\n",
    "        data['title_link'] = tag[1].select_one('a').get('href')\n",
    "        data['writer'] = tag[2].text\n",
    "        data['pdf_link'] = tag[3].select_one('a').get('href')\n",
    "        data['date'] = tag[4].text\n",
    "        data['pv'] = tag[5].text\n",
    "        rows.append(data)"
   ]
  },
  {
   "cell_type": "code",
   "execution_count": 268,
   "id": "a9f9a23d-322d-4e91-9b6f-60d3ec561378",
   "metadata": {},
   "outputs": [
    {
     "data": {
      "text/html": [
       "<div>\n",
       "<style scoped>\n",
       "    .dataframe tbody tr th:only-of-type {\n",
       "        vertical-align: middle;\n",
       "    }\n",
       "\n",
       "    .dataframe tbody tr th {\n",
       "        vertical-align: top;\n",
       "    }\n",
       "\n",
       "    .dataframe thead th {\n",
       "        text-align: right;\n",
       "    }\n",
       "</style>\n",
       "<table border=\"1\" class=\"dataframe\">\n",
       "  <thead>\n",
       "    <tr style=\"text-align: right;\">\n",
       "      <th></th>\n",
       "      <th>stock_name</th>\n",
       "      <th>stock_link</th>\n",
       "      <th>title</th>\n",
       "      <th>title_link</th>\n",
       "      <th>writer</th>\n",
       "      <th>pdf_link</th>\n",
       "      <th>date</th>\n",
       "      <th>pv</th>\n",
       "    </tr>\n",
       "  </thead>\n",
       "  <tbody>\n",
       "    <tr>\n",
       "      <th>28</th>\n",
       "      <td>동국S&amp;C</td>\n",
       "      <td>/item/main.naver?code=100130</td>\n",
       "      <td>금리 하락으로 미국에서 훈풍이 불어온다</td>\n",
       "      <td>company_read.naver?nid=77098&amp;page=1</td>\n",
       "      <td>iM증권</td>\n",
       "      <td>https://stock.pstatic.net/stock-research/compa...</td>\n",
       "      <td>24.09.19</td>\n",
       "      <td>1518</td>\n",
       "    </tr>\n",
       "    <tr>\n",
       "      <th>29</th>\n",
       "      <td>SOOP</td>\n",
       "      <td>/item/main.naver?code=067160</td>\n",
       "      <td>경쟁사 스트리머 이적, 트래픽 유입 기대</td>\n",
       "      <td>company_read.naver?nid=77097&amp;page=1</td>\n",
       "      <td>신한투자증권</td>\n",
       "      <td>https://stock.pstatic.net/stock-research/compa...</td>\n",
       "      <td>24.09.19</td>\n",
       "      <td>1474</td>\n",
       "    </tr>\n",
       "  </tbody>\n",
       "</table>\n",
       "</div>"
      ],
      "text/plain": [
       "   stock_name                    stock_link                   title  \\\n",
       "28      동국S&C  /item/main.naver?code=100130   금리 하락으로 미국에서 훈풍이 불어온다   \n",
       "29       SOOP  /item/main.naver?code=067160  경쟁사 스트리머 이적, 트래픽 유입 기대   \n",
       "\n",
       "                             title_link  writer  \\\n",
       "28  company_read.naver?nid=77098&page=1    iM증권   \n",
       "29  company_read.naver?nid=77097&page=1  신한투자증권   \n",
       "\n",
       "                                             pdf_link      date    pv  \n",
       "28  https://stock.pstatic.net/stock-research/compa...  24.09.19  1518  \n",
       "29  https://stock.pstatic.net/stock-research/compa...  24.09.19  1474  "
      ]
     },
     "execution_count": 268,
     "metadata": {},
     "output_type": "execute_result"
    }
   ],
   "source": [
    "df = pd.DataFrame(rows)\n",
    "df.tail(2)"
   ]
  },
  {
   "cell_type": "markdown",
   "id": "91c73e10-7992-4f3f-abbf-16fa6fdd939e",
   "metadata": {},
   "source": [
    "#### 4. file download"
   ]
  },
  {
   "cell_type": "code",
   "execution_count": 270,
   "id": "8e746626-f8d5-4d1a-9375-971a62de7980",
   "metadata": {},
   "outputs": [
    {
     "data": {
      "text/plain": [
       "['.ipynb_checkpoints',\n",
       " '00_python.ipynb',\n",
       " '01_requests_naver_stock.ipynb',\n",
       " '02_requests_daum_exchange.ipynb',\n",
       " '03_rest_api.ipynb',\n",
       " '04_requests_zigbang.ipynb',\n",
       " '05_html.ipynb',\n",
       " '06_css_selector.ipynb',\n",
       " '07_naver_relational_keywords.ipynb',\n",
       " '08_gmarket.ipynb',\n",
       " '08_naver_stock_report.ipynb',\n",
       " '09_selenium.ipynb',\n",
       " '10_xpath.ipynb',\n",
       " '11_iterator_generator.ipynb',\n",
       " '12_scrapy.ipynb']"
      ]
     },
     "execution_count": 270,
     "metadata": {},
     "output_type": "execute_result"
    }
   ],
   "source": [
    "# os 패키지 :파일 시스템 관리하는 파이썬 패키지\n",
    "\n",
    "import os\n",
    "os.listdir()"
   ]
  },
  {
   "cell_type": "code",
   "execution_count": 271,
   "id": "f82d3115-caf0-4c0a-bf60-552b1cbb6c41",
   "metadata": {},
   "outputs": [
    {
     "data": {
      "text/plain": [
       "False"
      ]
     },
     "execution_count": 271,
     "metadata": {},
     "output_type": "execute_result"
    }
   ],
   "source": [
    "path = 'reports'\n",
    "# 디렉토리, 파일 존재 여부 확인\n",
    "os.path.exists(path) # 파일 존재 x\n",
    "\n"
   ]
  },
  {
   "cell_type": "code",
   "execution_count": 272,
   "id": "4b0faa46-d238-4dc4-9a91-de529b023832",
   "metadata": {},
   "outputs": [],
   "source": [
    "# 디렉토리가있는데 생성하려고 하면 에러 발생함\n",
    "\n",
    "if not os.path.exists(path):# 디겕토리 없으면 true\n",
    "    os.makedirs(path)"
   ]
  },
  {
   "cell_type": "code",
   "execution_count": 273,
   "id": "656092bc-f63a-4ce4-b047-06912faf0d62",
   "metadata": {},
   "outputs": [
    {
     "data": {
      "text/plain": [
       "True"
      ]
     },
     "execution_count": 273,
     "metadata": {},
     "output_type": "execute_result"
    }
   ],
   "source": [
    "os.path.exists(path)"
   ]
  },
  {
   "cell_type": "code",
   "execution_count": 274,
   "id": "fe7b5537-534d-44e4-821b-892b34795597",
   "metadata": {},
   "outputs": [
    {
     "data": {
      "text/plain": [
       "['12_scrapy.ipynb', 'reports']"
      ]
     },
     "execution_count": 274,
     "metadata": {},
     "output_type": "execute_result"
    }
   ],
   "source": [
    "os.listdir()[-2:]"
   ]
  },
  {
   "cell_type": "code",
   "execution_count": 275,
   "id": "62bc276c-c4c2-48e5-b77c-99e83160883e",
   "metadata": {},
   "outputs": [],
   "source": [
    "# 1. url"
   ]
  },
  {
   "cell_type": "code",
   "execution_count": 276,
   "id": "5c39afa1-cce2-40a2-bfab-09e159b10fcd",
   "metadata": {},
   "outputs": [
    {
     "data": {
      "text/plain": [
       "('AI데이터센터 냉각 시장 공략',\n",
       " 'https://stock.pstatic.net/stock-research/company/34/20240923_company_481199000.pdf')"
      ]
     },
     "execution_count": 276,
     "metadata": {},
     "output_type": "execute_result"
    }
   ],
   "source": [
    "title=df.loc[0,'title']\n",
    "pdf_link=df.loc[0,'pdf_link']\n",
    "title,pdf_link"
   ]
  },
  {
   "cell_type": "code",
   "execution_count": 277,
   "id": "a7545515-a2f0-4940-bc08-89ffe5ff4132",
   "metadata": {},
   "outputs": [],
   "source": [
    "# 2. request (url), response (pdf)  << pdf를 다운로드 받아옴"
   ]
  },
  {
   "cell_type": "code",
   "execution_count": 278,
   "id": "8732787f-52ca-4201-91eb-97babab3b9f7",
   "metadata": {},
   "outputs": [
    {
     "data": {
      "text/plain": [
       "<Response [200]>"
      ]
     },
     "execution_count": 278,
     "metadata": {},
     "output_type": "execute_result"
    }
   ],
   "source": [
    "response = requests.get(pdf_link)\n",
    "response"
   ]
  },
  {
   "cell_type": "code",
   "execution_count": 279,
   "id": "0c892c50-3f7e-4190-9b68-a9b732ef3f83",
   "metadata": {},
   "outputs": [],
   "source": [
    "# 3. pdf > 저장 파싱 이런거 안하고 save (/reports)"
   ]
  },
  {
   "cell_type": "code",
   "execution_count": 280,
   "id": "53acc85d-a15f-4488-9d3b-7835116d63dc",
   "metadata": {},
   "outputs": [
    {
     "name": "stdout",
     "output_type": "stream",
     "text": [
      "reports/AI데이터센터 냉각 시장 공략.pdf\n"
     ]
    }
   ],
   "source": [
    "filename= f'{path}/{title}.pdf' #path로 경로, title.pdf로 이름 설정\n",
    "print(filename)\n",
    "\n",
    "\n",
    "\n",
    "with open(filename ,'wb') as file:# 파일 저장할때 with사용 wb는 write binary 2진형태로 저장해주겠다~~~\n",
    "# wt 하면 text 형태로 저장\n",
    "#wb image, 영상파일 등등 모두 이진법으로 저장\n",
    "\n",
    "    file.write(response.content)"
   ]
  },
  {
   "cell_type": "code",
   "execution_count": 281,
   "id": "446fdb43-1e61-4d26-a458-aab953627c9a",
   "metadata": {},
   "outputs": [
    {
     "data": {
      "text/plain": [
       "['AI데이터센터 냉각 시장 공략.pdf']"
      ]
     },
     "execution_count": 281,
     "metadata": {},
     "output_type": "execute_result"
    }
   ],
   "source": [
    "os.listdir('reports')"
   ]
  },
  {
   "cell_type": "code",
   "execution_count": 282,
   "id": "2fd30825-fab1-4a0b-95d3-f1721bfbc852",
   "metadata": {},
   "outputs": [],
   "source": [
    "# pickle  : RAM을 메모리(SSD)에 저장하거나 SSD를 RAM으로 가져올떄 사용"
   ]
  },
  {
   "cell_type": "code",
   "execution_count": null,
   "id": "c39f70e1-3482-4ffb-ae2c-de5cb6ec1ae3",
   "metadata": {},
   "outputs": [],
   "source": []
  },
  {
   "cell_type": "code",
   "execution_count": null,
   "id": "1dbe2007-8faa-4010-bb5a-0b102ad6f60b",
   "metadata": {},
   "outputs": [],
   "source": []
  },
  {
   "cell_type": "code",
   "execution_count": 285,
   "id": "470f88ff-1bd7-4682-8bb9-d076033ad261",
   "metadata": {},
   "outputs": [],
   "source": [
    "import shutil #쉘스크립트 유틸 os에 기능 추가 디렉토리 삭제 가능\n",
    "\n",
    "shutil.rmtree(path) # 삭제 통한 초기화\n",
    "\n",
    "os.makedirs(path)"
   ]
  },
  {
   "cell_type": "code",
   "execution_count": 287,
   "id": "25259384-fa35-4cd9-923f-28f7ec21945b",
   "metadata": {},
   "outputs": [
    {
     "data": {
      "text/plain": [
       "[]"
      ]
     },
     "execution_count": 287,
     "metadata": {},
     "output_type": "execute_result"
    }
   ],
   "source": [
    "os.listdir(path)"
   ]
  },
  {
   "cell_type": "code",
   "execution_count": 295,
   "id": "598de2bb-125c-4509-9215-670f9130e024",
   "metadata": {},
   "outputs": [
    {
     "name": "stdout",
     "output_type": "stream",
     "text": [
      "0 AI데이터센터 냉각 시장 공략 https://stock.pstatic.net/stock-research/company/34/20240923_company_481199000.pdf\n",
      "1 설계와 시공능력으로 액침냉각 사업 확대 https://stock.pstatic.net/stock-research/company/34/20240923_company_279682000.pdf\n",
      "2 액침냉각, 기술적 강점을 확보해 나가는 중 https://stock.pstatic.net/stock-research/company/62/20240923_company_647832000.pdf\n",
      "3 3Q24 Preview: 국내 수주 강세 VS 중국 부진 .. https://stock.pstatic.net/stock-research/company/57/20240923_company_621805000.pdf\n",
      "4 Re-rating 구간 돌입 https://stock.pstatic.net/stock-research/company/63/20240923_company_747255000.pdf\n",
      "5 높아지는 Peak sales https://stock.pstatic.net/stock-research/company/29/20240923_company_582032000.pdf\n",
      "6 Metsera, 너는 계획이 다 있구나 https://stock.pstatic.net/stock-research/company/39/20240923_company_387902000.pdf\n",
      "7 의대 열풍, 나만 믿어 https://stock.pstatic.net/stock-research/company/21/20240923_company_352867000.pdf\n",
      "8 속도가 느려도, 방향성은 맞다 https://stock.pstatic.net/stock-research/company/39/20240923_company_584932000.pdf\n",
      "9 빅파마들의 RPT 방향, 우리도 간다 https://stock.pstatic.net/stock-research/company/29/20240920_company_395376000.pdf\n",
      "10 코스닥 방사성의약품 기업으로 진입  https://stock.pstatic.net/stock-research/company/29/20240920_company_183023000.pdf\n",
      "11 롯데렌탈의 쏘카 지분 추가취득 당분간 중단 https://stock.pstatic.net/stock-research/company/57/20240920_company_178894000.pdf\n",
      "12 길어지고 있는 기다림 https://stock.pstatic.net/stock-research/company/18/20240920_company_753861000.pdf\n",
      "13 2024년 3분기 부진 터널 통과해야! https://stock.pstatic.net/stock-research/company/18/20240920_company_57258000.pdf\n",
      "14 이튼의 견고한 성장 파트너 https://stock.pstatic.net/stock-research/company/18/20240920_company_34889000.pdf\n",
      "15 엘사 https://stock.pstatic.net/stock-research/company/29/20240920_company_281135000.pdf\n",
      "16 Moment of Truth https://stock.pstatic.net/stock-research/company/21/20240920_company_358074000.pdf\n",
      "17 확대되는 TROP2 ADC 치료제 시장 https://stock.pstatic.net/stock-research/company/63/20240920_company_241527000.pdf\n",
      "18 엔지니어링 플라스틱 소재 개발 및 고도화로 .. https://stock.pstatic.net/stock-research/company/72/20240920_company_938658000.pdf\n",
      "19 경쟁력 있는 CDMO, 여기에도 있다 https://stock.pstatic.net/stock-research/company/66/20240919_company_564633000.pdf\n",
      "20 환율 모멘텀 발생 예상. 자사주 추가 매입 가.. https://stock.pstatic.net/stock-research/company/57/20240919_company_316925000.pdf\n",
      "21 가치가 높아지는 F박스와 K패션 해외 진출 수.. https://stock.pstatic.net/stock-research/company/16/20240919_company_108073000.pdf\n",
      "22 경증 아토피 치료의 글로벌  시장 판도를 바.. https://stock.pstatic.net/stock-research/company/2/20240919_company_999118000.pdf\n",
      "23 3분기는 비수기, 그러나   주주 가치 환원에 .. https://stock.pstatic.net/stock-research/company/2/20240919_company_792011000.pdf\n",
      "24 3Q24 일시적인 실적 둔화,  분위기 반전이 필.. https://stock.pstatic.net/stock-research/company/2/20240919_company_398898000.pdf\n",
      "25 지속가능한 성장 https://stock.pstatic.net/stock-research/company/63/20240919_company_57035000.pdf\n",
      "26 미국 타워 판가도 인상 https://stock.pstatic.net/stock-research/company/63/20240919_company_131970000.pdf\n",
      "27 콥데이 후기: 8.6G OLED 투자 본격화 수혜 기.. https://stock.pstatic.net/stock-research/company/63/20240919_company_584893000.pdf\n",
      "28 금리 하락으로 미국에서 훈풍이 불어온다 https://stock.pstatic.net/stock-research/company/61/20240919_company_401972000.pdf\n",
      "29 경쟁사 스트리머 이적, 트래픽 유입 기대 https://stock.pstatic.net/stock-research/company/21/20240919_company_26810000.pdf\n"
     ]
    }
   ],
   "source": [
    "for idx,row in df.iterrows():\n",
    "    print(idx, row['title'], row['pdf_link'])\n",
    "    title,pdf_link = row['title'] , row['pdf_link']\n",
    "    response = requests.get(pdf_link)\n",
    "    filename= f'{path}/{title}.pdf' #path로 경로, title.pdf로 이름 설정\n",
    "\n",
    "\n",
    "    with open(filename ,'wb') as file:# 파일 저장할때 with사용 wb는 write binary 2진형태로 저장해주겠다~~~\n",
    "        file.write(response.content)"
   ]
  },
  {
   "cell_type": "code",
   "execution_count": 297,
   "id": "740ab3f2-3e0a-42f5-8de7-a1ed0079e2a9",
   "metadata": {},
   "outputs": [
    {
     "data": {
      "text/plain": [
       "['2024년 3분기 부진 터널 통과해야!.pdf',\n",
       " '3Q24 Preview',\n",
       " '3Q24 일시적인 실적 둔화,  분위기 반전이 필...pdf',\n",
       " '3분기는 비수기, 그러나   주주 가치 환원에 ...pdf',\n",
       " 'AI데이터센터 냉각 시장 공략.pdf',\n",
       " 'Metsera, 너는 계획이 다 있구나.pdf',\n",
       " 'Moment of Truth.pdf',\n",
       " 'Re-rating 구간 돌입.pdf',\n",
       " '가치가 높아지는 F박스와 K패션 해외 진출 수...pdf',\n",
       " '경쟁력 있는 CDMO, 여기에도 있다.pdf',\n",
       " '경쟁사 스트리머 이적, 트래픽 유입 기대.pdf',\n",
       " '경증 아토피 치료의 글로벌  시장 판도를 바...pdf',\n",
       " '금리 하락으로 미국에서 훈풍이 불어온다.pdf',\n",
       " '길어지고 있는 기다림.pdf',\n",
       " '높아지는 Peak sales.pdf',\n",
       " '롯데렌탈의 쏘카 지분 추가취득 당분간 중단.pdf',\n",
       " '미국 타워 판가도 인상.pdf',\n",
       " '빅파마들의 RPT 방향, 우리도 간다.pdf',\n",
       " '설계와 시공능력으로 액침냉각 사업 확대.pdf',\n",
       " '속도가 느려도, 방향성은 맞다.pdf',\n",
       " '액침냉각, 기술적 강점을 확보해 나가는 중.pdf',\n",
       " '엔지니어링 플라스틱 소재 개발 및 고도화로 ...pdf',\n",
       " '엘사.pdf',\n",
       " '의대 열풍, 나만 믿어.pdf',\n",
       " '이튼의 견고한 성장 파트너.pdf',\n",
       " '지속가능한 성장.pdf',\n",
       " '코스닥 방사성의약품 기업으로 진입 .pdf',\n",
       " '콥데이 후기',\n",
       " '확대되는 TROP2 ADC 치료제 시장.pdf',\n",
       " '환율 모멘텀 발생 예상. 자사주 추가 매입 가...pdf']"
      ]
     },
     "execution_count": 297,
     "metadata": {},
     "output_type": "execute_result"
    }
   ],
   "source": [
    "os.listdir(path)"
   ]
  },
  {
   "cell_type": "code",
   "execution_count": null,
   "id": "ec5a79b5-418a-4907-b78f-2b81dfcf6dc5",
   "metadata": {},
   "outputs": [],
   "source": []
  },
  {
   "cell_type": "code",
   "execution_count": null,
   "id": "1ee03e7f-ceb4-4f1d-b107-ce2240ba2208",
   "metadata": {},
   "outputs": [],
   "source": []
  }
 ],
 "metadata": {
  "kernelspec": {
   "display_name": "Python 3 (ipykernel)",
   "language": "python",
   "name": "python3"
  },
  "language_info": {
   "codemirror_mode": {
    "name": "ipython",
    "version": 3
   },
   "file_extension": ".py",
   "mimetype": "text/x-python",
   "name": "python",
   "nbconvert_exporter": "python",
   "pygments_lexer": "ipython3",
   "version": "3.12.4"
  }
 },
 "nbformat": 4,
 "nbformat_minor": 5
}
